{
 "cells": [
  {
   "cell_type": "markdown",
   "id": "ab0efe33",
   "metadata": {},
   "source": [
    "# Pandas"
   ]
  },
  {
   "cell_type": "markdown",
   "id": "020d23af",
   "metadata": {},
   "source": [
    "https://pandas.pydata.org/docs/reference/api/pandas.DataFrame.html"
   ]
  },
  {
   "cell_type": "code",
   "execution_count": null,
   "id": "8fd86265",
   "metadata": {},
   "outputs": [],
   "source": [
    "# Modules to import\n",
    "import pandas as pd\n",
    "import openpyxl"
   ]
  },
  {
   "cell_type": "code",
   "execution_count": null,
   "id": "2c04fcf6",
   "metadata": {},
   "outputs": [],
   "source": [
    "# Intialise data of lists.\n",
    "data = {'Name':['Edward','Abby', 'Chris', 'Dean','Bert'],\n",
    "        'Age':[12, 21, 19, 52,34]}\n",
    " \n",
    "# Create DataFrame\n",
    "df = pd.DataFrame(data)\n",
    "df"
   ]
  },
  {
   "cell_type": "code",
   "execution_count": null,
   "id": "4a7587bb",
   "metadata": {},
   "outputs": [],
   "source": [
    "# Adding a column\n",
    "df['Country'] = 'United States'\n",
    "df"
   ]
  },
  {
   "cell_type": "code",
   "execution_count": null,
   "id": "60207894",
   "metadata": {},
   "outputs": [],
   "source": [
    "# Making a change based on an event\n",
    "df.loc[(df.Name == 'Chris'),'Country']='Mexico'\n",
    "df"
   ]
  },
  {
   "cell_type": "code",
   "execution_count": null,
   "id": "0cd50ce1",
   "metadata": {},
   "outputs": [],
   "source": [
    "# Resorting based on a column\n",
    "df = df.sort_values(by=['Name'])\n",
    "df"
   ]
  },
  {
   "cell_type": "code",
   "execution_count": null,
   "id": "3903a0fa",
   "metadata": {},
   "outputs": [],
   "source": [
    "# Adding a new row\n",
    "new_row = {'Name':'Frank','Age':'46','Country':'Denmark'}\n",
    "df = df.append(new_row, ignore_index=True)\n",
    "df"
   ]
  },
  {
   "cell_type": "code",
   "execution_count": null,
   "id": "d4ba6a11",
   "metadata": {},
   "outputs": [],
   "source": [
    "# Renaming a column\n",
    "df.rename(columns={'Country': 'Location'}, inplace=True)\n",
    "df"
   ]
  },
  {
   "cell_type": "code",
   "execution_count": null,
   "id": "44c39710",
   "metadata": {},
   "outputs": [],
   "source": [
    "# Adding a column and assigning based on another column\n",
    "df['Life_Stage'] = ['Old' if x > 25 else 'Young' for x in df['Age']]\n",
    "df"
   ]
  },
  {
   "cell_type": "code",
   "execution_count": null,
   "id": "792e7c44",
   "metadata": {},
   "outputs": [],
   "source": [
    "# Looking at data types\n",
    "df.dtypes"
   ]
  },
  {
   "cell_type": "markdown",
   "id": "3b55a1d8",
   "metadata": {},
   "source": [
    "<center><a href=\"https://pbpython.com/images/pandas_dtypes.png\">Data Types</a></center>\n",
    "<img src=\"https://pbpython.com/images/pandas_dtypes.png\">"
   ]
  },
  {
   "cell_type": "code",
   "execution_count": null,
   "id": "f7f9769b",
   "metadata": {},
   "outputs": [],
   "source": [
    "# Converting Age to Integer\n",
    "df['Age'] = df['Age'].astype('int64')\n",
    "df.dtypes"
   ]
  },
  {
   "cell_type": "code",
   "execution_count": null,
   "id": "f99c3904",
   "metadata": {},
   "outputs": [],
   "source": [
    "# Adding a column and assigning based on another column\n",
    "df['Life_Stage'] = ['Old' if x > 25 else 'Young' for x in df['Age']]\n",
    "df"
   ]
  },
  {
   "cell_type": "code",
   "execution_count": null,
   "id": "469c6110",
   "metadata": {},
   "outputs": [],
   "source": [
    "# Looking at group by\n",
    "df.groupby(['Life_Stage']).median()"
   ]
  },
  {
   "cell_type": "code",
   "execution_count": null,
   "id": "9a46c0b9",
   "metadata": {},
   "outputs": [],
   "source": [
    "# Another group by\n",
    "df.groupby(['Location']).median()"
   ]
  },
  {
   "cell_type": "code",
   "execution_count": null,
   "id": "54dfdba5",
   "metadata": {},
   "outputs": [],
   "source": [
    "# Rudementary Chart\n",
    "chart = df['Age'].plot.bar()\n",
    "chart;"
   ]
  },
  {
   "cell_type": "code",
   "execution_count": null,
   "id": "456ca22d",
   "metadata": {},
   "outputs": [],
   "source": [
    "#Creating a new dataframe filtered from the first one\n",
    "df2 = df[df['Location'] == 'United States']\n",
    "df2"
   ]
  },
  {
   "cell_type": "code",
   "execution_count": null,
   "id": "19a3a2f7",
   "metadata": {},
   "outputs": [],
   "source": [
    "# Exporting as a CSV\n",
    "df2.to_csv('book1.csv', sep=',', index=False) ## CSV separated with a comma, ignoring the index"
   ]
  },
  {
   "cell_type": "code",
   "execution_count": null,
   "id": "2621582b",
   "metadata": {},
   "outputs": [],
   "source": [
    "##Write it to Excel\n",
    "with pd.ExcelWriter('Demographics.xlsx',engine='openpyxl') as writer:\n",
    "    df.to_excel(writer, sheet_name='All', index=False)\n",
    "    df2.to_excel(writer, sheet_name='US Residents', index=False)"
   ]
  },
  {
   "cell_type": "code",
   "execution_count": null,
   "id": "597dcb9c",
   "metadata": {},
   "outputs": [],
   "source": [
    "# Wide data transformation\n",
    "df = pd.DataFrame({\n",
    "    'date' : ['05/03', '06/03', '07/03', '08/03'],\n",
    "    'AA' : [1, 4, 7, 5],\n",
    "    'BB' : [2, 5, 8, 7],\n",
    "    'CC' : [3, 6, 9, 1]\n",
    "}).set_index('date')\n",
    "df"
   ]
  },
  {
   "cell_type": "code",
   "execution_count": null,
   "id": "8f906629",
   "metadata": {},
   "outputs": [],
   "source": [
    "# Wide to long\n",
    "# Melt to work, we can't use a date index so reset it\n",
    "# Melt keeping your date and melting out the variables\n",
    "df = df.reset_index()\n",
    "wide_to_long = pd.melt(df, id_vars='date', value_vars=['AA', 'BB', 'CC'])\n",
    "wide_to_long"
   ]
  },
  {
   "cell_type": "code",
   "execution_count": null,
   "id": "dbd8e7be",
   "metadata": {},
   "outputs": [],
   "source": [
    "#Long to Wide\n",
    "#How to accomplish a pivot with Pandas\n",
    "long_to_wide = wide_to_long.pivot_table(index=['date'],columns='variable',values='value').reset_index()\n",
    "long_to_wide"
   ]
  },
  {
   "cell_type": "code",
   "execution_count": null,
   "id": "4d69b2c6",
   "metadata": {},
   "outputs": [],
   "source": [
    "#Working with data\n",
    "df = pd.DataFrame({\n",
    "    'Name' : ['Kristin Ruark','Leonila Maskell','Dena Streetman','Aleen Espinoza','Venetta Denison',\n",
    "              'Paz Dowless','Lorette Landa','Lamonica Vogl','Keely Harbin','Lourdes Rathjen',\n",
    "              'Lorilee Birge','Guillermo Borquez','Wayne Beggs','Corrie Kowalewski'],\n",
    "    'Age' : [90,97,23,61,41,86,82,24,19,89,24,62,67,79],\n",
    "    'Country' : ['Saint Pierre and Miquelon','Antarctica','Finland','Comoros','Anguilla','Italy',\n",
    "                 'Virgin Islands (U.S.)','Liechtenstein','Liberia','Cook Islands','Albania',\n",
    "                 'Maldives','Senegal','El Salvador'],\n",
    "    'Hobby' : ['Candle making','Candy making','Car fixing & building','Card games','Cardistry',\n",
    "               'Ceramics','Chatting','Cheesemaking','Chess','Cleaning','Clothesmaking',\n",
    "               'Coffee roasting','Collecting','Coloring']\n",
    "})\n",
    "df"
   ]
  },
  {
   "cell_type": "code",
   "execution_count": null,
   "id": "f2b1d1e9",
   "metadata": {},
   "outputs": [],
   "source": [
    "#Splitting Name into first and last\n",
    "df[['Name','Last_Name']] = df['Name'].str.split(' ',expand=True)\n",
    "df.rename(columns={'Name': 'First_Name'}, inplace=True)\n",
    "df"
   ]
  },
  {
   "cell_type": "code",
   "execution_count": null,
   "id": "83ebd185",
   "metadata": {},
   "outputs": [],
   "source": [
    "#Reindexing\n",
    "df = df.reindex(columns=['First_Name','Last_Name','Age','Hobby','Country'])\n",
    "df"
   ]
  },
  {
   "cell_type": "code",
   "execution_count": null,
   "id": "ba2d2943",
   "metadata": {},
   "outputs": [],
   "source": [
    "#Saving to Excel\n",
    "df.to_excel(\"Output.xlsx\",index=False,sheet_name='Roster')"
   ]
  },
  {
   "cell_type": "code",
   "execution_count": null,
   "id": "aef8fa64",
   "metadata": {},
   "outputs": [],
   "source": [
    "#Merging Dataframes together\n",
    "df1 = pd.DataFrame(\n",
    "    {\n",
    "        \"A\": [\"A0\", \"A1\", \"A2\", \"A3\"],\n",
    "        \"B\": [\"B0\", \"B1\", \"B2\", \"B3\"],\n",
    "        \"C\": [\"C0\", \"C1\", \"C2\", \"C3\"],\n",
    "        \"D\": [\"D0\", \"D1\", \"D2\", \"D3\"],\n",
    "    },\n",
    "    index=[0, 1, 2, 3],\n",
    ")\n",
    "\n",
    "\n",
    "df2 = pd.DataFrame(\n",
    "    {\n",
    "        \"A\": [\"A4\", \"A5\", \"A6\", \"A7\"],\n",
    "        \"B\": [\"B4\", \"B5\", \"B6\", \"B7\"],\n",
    "        \"C\": [\"C4\", \"C5\", \"C6\", \"C7\"],\n",
    "        \"D\": [\"D4\", \"D5\", \"D6\", \"D7\"],\n",
    "    },\n",
    "    index=[4, 5, 6, 7],\n",
    ")\n",
    "\n",
    "\n",
    "df3 = pd.DataFrame(\n",
    "    {\n",
    "        \"A\": [\"A8\", \"A9\", \"A10\", \"A11\"],\n",
    "        \"B\": [\"B8\", \"B9\", \"B10\", \"B11\"],\n",
    "        \"C\": [\"C8\", \"C9\", \"C10\", \"C11\"],\n",
    "        \"D\": [\"D8\", \"D9\", \"D10\", \"D11\"],\n",
    "    },\n",
    "    index=[8, 9, 10, 11],\n",
    ")\n",
    "df1"
   ]
  },
  {
   "cell_type": "code",
   "execution_count": null,
   "id": "a609127a",
   "metadata": {},
   "outputs": [],
   "source": [
    "df2"
   ]
  },
  {
   "cell_type": "code",
   "execution_count": null,
   "id": "c830f0f5",
   "metadata": {},
   "outputs": [],
   "source": [
    "df3"
   ]
  },
  {
   "cell_type": "code",
   "execution_count": null,
   "id": "87ada7ac",
   "metadata": {},
   "outputs": [],
   "source": [
    "#Merging operations\n",
    "merged_list = [df1, df2, df3]\n",
    "merged_df = pd.concat(merged_list)\n",
    "merged_df"
   ]
  },
  {
   "cell_type": "markdown",
   "id": "7cb89ebc",
   "metadata": {},
   "source": [
    "## Putting this to work"
   ]
  },
  {
   "cell_type": "code",
   "execution_count": null,
   "id": "19a8dc60",
   "metadata": {},
   "outputs": [],
   "source": [
    "#Importing from dataframes\n",
    "# Data sourced from https://dataverse.harvard.edu/dataset.xhtml?persistentId=doi:10.7910/DVN/42MVDX&version=6.0\n",
    "# Converted to an xlsx and tabbed by decade\n",
    "# This could be from 1 spreadsheet, or other multiple sources\n",
    "df1 = pd.read_excel(\"1976-2020-president.xlsx\", \"1970\")\n",
    "df2 = pd.read_excel(\"1976-2020-president.xlsx\", \"1980\")\n",
    "df3 = pd.read_excel(\"1976-2020-president.xlsx\", \"1990\")\n",
    "df4 = pd.read_excel(\"1976-2020-president.xlsx\", \"2000\")\n",
    "df4 = pd.read_excel(\"1976-2020-president.xlsx\", \"2010\")\n",
    "df5 = pd.read_excel(\"1976-2020-president.xlsx\", \"2020\")\n",
    "\n",
    "merged_list = [df1,df2,df3,df4,df5]\n",
    "df = pd.concat(merged_list)\n",
    "df"
   ]
  },
  {
   "cell_type": "code",
   "execution_count": null,
   "id": "b12ac2d7",
   "metadata": {},
   "outputs": [],
   "source": [
    "#Start transformations\n",
    "df.rename(columns={'state_po': 'state_acronym'}, inplace=True)\n",
    "df.rename(columns={'candidatevotes': 'candidate_votes'}, inplace=True)\n",
    "df.rename(columns={'totalvotes': 'total_votes'}, inplace=True)\n",
    "df"
   ]
  },
  {
   "cell_type": "code",
   "execution_count": null,
   "id": "bb9c4ee3",
   "metadata": {},
   "outputs": [],
   "source": [
    "# Create one report looking at total votes by state by year\n",
    "report1_df = df.groupby(['year','state'],as_index=False).sum()\n",
    "report1_df = report1_df.drop(['state_fips', 'state_cen','total_votes','version','notes','state_ic'], axis = 1)\n",
    "report1_df"
   ]
  },
  {
   "cell_type": "code",
   "execution_count": null,
   "id": "a7130ab3",
   "metadata": {},
   "outputs": [],
   "source": [
    "# Create one report looking at Votes by candidate by state\n",
    "report2_df = df.groupby(['year','candidate'],as_index=False).sum()\n",
    "report2_df = report2_df.drop(['state_fips', 'state_cen','total_votes','version','notes','state_ic'], axis = 1)\n",
    "report2_df"
   ]
  },
  {
   "cell_type": "code",
   "execution_count": null,
   "id": "e4a4eb3d",
   "metadata": {},
   "outputs": [],
   "source": [
    "# Creating a pivot\n",
    "report3_df = df.pivot_table(index='year',columns='candidate'\n",
    "                            ,values='candidate_votes',aggfunc='sum').round(0)\n",
    "report3_df = report3_df.fillna('0').astype(int) #Handling blanks and losing the trailing .0\n",
    "report3_df"
   ]
  },
  {
   "cell_type": "code",
   "execution_count": null,
   "id": "edda7036",
   "metadata": {},
   "outputs": [],
   "source": [
    "##Write it to Excel\n",
    "with pd.ExcelWriter('Presidential_Candidates.xlsx',engine='openpyxl') as writer:\n",
    "    report1_df.to_excel(writer, sheet_name='State Participation', index=False)\n",
    "    report2_df.to_excel(writer, sheet_name='Candidate Votes', index=False)\n",
    "    report3_df.to_excel(writer, sheet_name='Candidate Pivot', index=True)"
   ]
  },
  {
   "cell_type": "markdown",
   "id": "abad1570",
   "metadata": {},
   "source": [
    "Some further reading: <br>\n",
    "Dataframes from alternate sources: https://pandas.pydata.org/docs/user_guide/io.html <br>\n",
    "Merging dataframes: https://pandas.pydata.org/docs/user_guide/merging.html <br>\n",
    "Melting and reshaping: https://pandas.pydata.org/docs/user_guide/reshaping.html <br>\n",
    "Working with Nulls (NaN): https://pandas.pydata.org/docs/user_guide/missing_data.html <br>"
   ]
  }
 ],
 "metadata": {
  "kernelspec": {
   "display_name": "Python 3 (ipykernel)",
   "language": "python",
   "name": "python3"
  },
  "language_info": {
   "codemirror_mode": {
    "name": "ipython",
    "version": 3
   },
   "file_extension": ".py",
   "mimetype": "text/x-python",
   "name": "python",
   "nbconvert_exporter": "python",
   "pygments_lexer": "ipython3",
   "version": "3.8.11"
  }
 },
 "nbformat": 4,
 "nbformat_minor": 5
}
